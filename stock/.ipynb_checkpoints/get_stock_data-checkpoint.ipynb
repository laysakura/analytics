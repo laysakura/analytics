{
 "cells": [
  {
   "cell_type": "code",
   "execution_count": 221,
   "metadata": {
    "collapsed": false
   },
   "outputs": [],
   "source": [
    "import datetime\n",
    "import time\n",
    "import csv\n",
    "import sys\n",
    "import urllib.request\n",
    "import pandas as pd\n"
   ]
  },
  {
   "cell_type": "code",
   "execution_count": 222,
   "metadata": {
    "collapsed": true
   },
   "outputs": [],
   "source": [
    "#一旦適当な株のページを参照（あとで複数指定できるようにする）\n",
    "URL = 'http://info.finance.yahoo.co.jp/history/?code=6050.T'"
   ]
  },
  {
   "cell_type": "code",
   "execution_count": 223,
   "metadata": {
    "collapsed": true
   },
   "outputs": [],
   "source": [
    "response = urllib.request.urlopen(URL)"
   ]
  },
  {
   "cell_type": "code",
   "execution_count": 224,
   "metadata": {
    "collapsed": true
   },
   "outputs": [],
   "source": [
    "html = response.read().decode(\"utf-8\")"
   ]
  },
  {
   "cell_type": "code",
   "execution_count": 245,
   "metadata": {
    "collapsed": false
   },
   "outputs": [],
   "source": [
    "#beautiful soupでスクレイピング\n",
    "#lxmlは超高速らしいので使う\n",
    "from bs4 import BeautifulSoup\n",
    "soup = BeautifulSoup(html, \"lxml\")\n",
    "article = soup.find(class_=\"boardFin yjSt marB6\")\n",
    "h2_list = article.findAll(\"tr\")\n",
    "tds = article.findAll(\"td\")"
   ]
  },
  {
   "cell_type": "code",
   "execution_count": 246,
   "metadata": {
    "collapsed": false
   },
   "outputs": [
    {
     "data": {
      "text/plain": [
       "[<tr>\n",
       " <th width=\"20%\">日付</th>\n",
       " <th width=\"12%\">始値</th>\n",
       " <th width=\"12%\">高値</th>\n",
       " <th width=\"12%\">安値</th>\n",
       " <th width=\"12%\">終値</th>\n",
       " <th width=\"12%\">出来高</th>\n",
       " <th width=\"20%\">調整後終値*</th>\n",
       " </tr>,\n",
       " <tr class=\"stocksPriceGreen\"><td>2017年1月13日</td><td>1,631</td><td>1,736</td><td>1,595</td><td>1,721</td><td>2,798,600</td><td>1,721</td></tr>,\n",
       " <tr><td>2017年1月12日</td><td>1,544</td><td>1,630</td><td>1,486</td><td>1,598</td><td>2,726,700</td><td>1,598</td></tr>,\n",
       " <tr><td>2017年1月11日</td><td>1,507</td><td>1,558</td><td>1,457</td><td>1,493</td><td>1,185,900</td><td>1,493</td></tr>,\n",
       " <tr><td>2017年1月10日</td><td>1,415</td><td>1,531</td><td>1,377</td><td>1,521</td><td>1,708,900</td><td>1,521</td></tr>,\n",
       " <tr><td>2017年1月6日</td><td>1,398</td><td>1,411</td><td>1,365</td><td>1,395</td><td>546,200</td><td>1,395</td></tr>,\n",
       " <tr><td>2017年1月5日</td><td>1,320</td><td>1,395</td><td>1,312</td><td>1,384</td><td>869,600</td><td>1,384</td></tr>,\n",
       " <tr><td>2017年1月4日</td><td>1,320</td><td>1,337</td><td>1,309</td><td>1,313</td><td>215,800</td><td>1,313</td></tr>,\n",
       " <tr><td>2016年12月30日</td><td>1,292</td><td>1,327</td><td>1,283</td><td>1,312</td><td>171,400</td><td>1,312</td></tr>,\n",
       " <tr><td>2016年12月29日</td><td>1,315</td><td>1,326</td><td>1,293</td><td>1,299</td><td>185,800</td><td>1,299</td></tr>,\n",
       " <tr><td>2016年12月28日</td><td>1,322</td><td>1,337</td><td>1,306</td><td>1,317</td><td>294,900</td><td>1,317</td></tr>,\n",
       " <tr><td>2016年12月27日</td><td>1,250</td><td>1,322</td><td>1,250</td><td>1,293</td><td>349,200</td><td>1,293</td></tr>,\n",
       " <tr><td>2016年12月26日</td><td>1,231</td><td>1,276</td><td>1,230</td><td>1,264</td><td>141,600</td><td>1,264</td></tr>,\n",
       " <tr><td>2016年12月22日</td><td>1,280</td><td>1,285</td><td>1,245</td><td>1,258</td><td>168,700</td><td>1,258</td></tr>,\n",
       " <tr><td>2016年12月21日</td><td>1,285</td><td>1,299</td><td>1,268</td><td>1,282</td><td>124,300</td><td>1,282</td></tr>,\n",
       " <tr><td>2016年12月20日</td><td>1,264</td><td>1,310</td><td>1,256</td><td>1,299</td><td>175,800</td><td>1,299</td></tr>,\n",
       " <tr><td>2016年12月19日</td><td>1,273</td><td>1,289</td><td>1,264</td><td>1,268</td><td>146,300</td><td>1,268</td></tr>,\n",
       " <tr><td>2016年12月16日</td><td>1,277</td><td>1,298</td><td>1,267</td><td>1,288</td><td>163,800</td><td>1,288</td></tr>,\n",
       " <tr><td>2016年12月15日</td><td>1,301</td><td>1,308</td><td>1,277</td><td>1,298</td><td>168,500</td><td>1,298</td></tr>,\n",
       " <tr><td>2016年12月14日</td><td>1,322</td><td>1,334</td><td>1,301</td><td>1,309</td><td>178,300</td><td>1,309</td></tr>,\n",
       " <tr><td>2016年12月13日</td><td>1,293</td><td>1,346</td><td>1,286</td><td>1,337</td><td>314,500</td><td>1,337</td></tr>]"
      ]
     },
     "execution_count": 246,
     "metadata": {},
     "output_type": "execute_result"
    }
   ],
   "source": [
    "h2_list"
   ]
  },
  {
   "cell_type": "code",
   "execution_count": 247,
   "metadata": {
    "collapsed": false
   },
   "outputs": [
    {
     "data": {
      "text/plain": [
       "['2017年1月12日', '1,544', '1,630', '1,486', '1,598', '2,726,700', '1,598']"
      ]
     },
     "execution_count": 247,
     "metadata": {},
     "output_type": "execute_result"
    }
   ],
   "source": [
    "def get_price(lists, idx =1):\n",
    "            elm = lists[idx]\n",
    "            tds = elm.findAll(\"td\")\n",
    "            data = [td.text for td in tds]\n",
    "            return data\n",
    "get_price(h2_list, 2)"
   ]
  },
  {
   "cell_type": "code",
   "execution_count": 249,
   "metadata": {
    "collapsed": false
   },
   "outputs": [],
   "source": [
    "price_sets = []\n",
    "for i in range(1,20):\n",
    "    data = get_price(h2_list, i)\n",
    "    price_sets.append(data)"
   ]
  },
  {
   "cell_type": "code",
   "execution_count": 250,
   "metadata": {
    "collapsed": false
   },
   "outputs": [],
   "source": [
    "data = pd.DataFrame(price_sets)"
   ]
  },
  {
   "cell_type": "code",
   "execution_count": 251,
   "metadata": {
    "collapsed": false
   },
   "outputs": [],
   "source": [
    "data.columns = {'日付', '始値','高値','安値','終値','出来高','調整後終値'}"
   ]
  },
  {
   "cell_type": "code",
   "execution_count": 252,
   "metadata": {
    "collapsed": false
   },
   "outputs": [
    {
     "data": {
      "text/html": [
       "<div>\n",
       "<table border=\"1\" class=\"dataframe\">\n",
       "  <thead>\n",
       "    <tr style=\"text-align: right;\">\n",
       "      <th></th>\n",
       "      <th>安値</th>\n",
       "      <th>始値</th>\n",
       "      <th>日付</th>\n",
       "      <th>高値</th>\n",
       "      <th>終値</th>\n",
       "      <th>出来高</th>\n",
       "      <th>調整後終値</th>\n",
       "    </tr>\n",
       "  </thead>\n",
       "  <tbody>\n",
       "    <tr>\n",
       "      <th>0</th>\n",
       "      <td>2017年1月13日</td>\n",
       "      <td>1,631</td>\n",
       "      <td>1,736</td>\n",
       "      <td>1,595</td>\n",
       "      <td>1,721</td>\n",
       "      <td>2,798,600</td>\n",
       "      <td>1,721</td>\n",
       "    </tr>\n",
       "    <tr>\n",
       "      <th>1</th>\n",
       "      <td>2017年1月12日</td>\n",
       "      <td>1,544</td>\n",
       "      <td>1,630</td>\n",
       "      <td>1,486</td>\n",
       "      <td>1,598</td>\n",
       "      <td>2,726,700</td>\n",
       "      <td>1,598</td>\n",
       "    </tr>\n",
       "    <tr>\n",
       "      <th>2</th>\n",
       "      <td>2017年1月11日</td>\n",
       "      <td>1,507</td>\n",
       "      <td>1,558</td>\n",
       "      <td>1,457</td>\n",
       "      <td>1,493</td>\n",
       "      <td>1,185,900</td>\n",
       "      <td>1,493</td>\n",
       "    </tr>\n",
       "    <tr>\n",
       "      <th>3</th>\n",
       "      <td>2017年1月10日</td>\n",
       "      <td>1,415</td>\n",
       "      <td>1,531</td>\n",
       "      <td>1,377</td>\n",
       "      <td>1,521</td>\n",
       "      <td>1,708,900</td>\n",
       "      <td>1,521</td>\n",
       "    </tr>\n",
       "    <tr>\n",
       "      <th>4</th>\n",
       "      <td>2017年1月6日</td>\n",
       "      <td>1,398</td>\n",
       "      <td>1,411</td>\n",
       "      <td>1,365</td>\n",
       "      <td>1,395</td>\n",
       "      <td>546,200</td>\n",
       "      <td>1,395</td>\n",
       "    </tr>\n",
       "    <tr>\n",
       "      <th>5</th>\n",
       "      <td>2017年1月5日</td>\n",
       "      <td>1,320</td>\n",
       "      <td>1,395</td>\n",
       "      <td>1,312</td>\n",
       "      <td>1,384</td>\n",
       "      <td>869,600</td>\n",
       "      <td>1,384</td>\n",
       "    </tr>\n",
       "    <tr>\n",
       "      <th>6</th>\n",
       "      <td>2017年1月4日</td>\n",
       "      <td>1,320</td>\n",
       "      <td>1,337</td>\n",
       "      <td>1,309</td>\n",
       "      <td>1,313</td>\n",
       "      <td>215,800</td>\n",
       "      <td>1,313</td>\n",
       "    </tr>\n",
       "    <tr>\n",
       "      <th>7</th>\n",
       "      <td>2016年12月30日</td>\n",
       "      <td>1,292</td>\n",
       "      <td>1,327</td>\n",
       "      <td>1,283</td>\n",
       "      <td>1,312</td>\n",
       "      <td>171,400</td>\n",
       "      <td>1,312</td>\n",
       "    </tr>\n",
       "    <tr>\n",
       "      <th>8</th>\n",
       "      <td>2016年12月29日</td>\n",
       "      <td>1,315</td>\n",
       "      <td>1,326</td>\n",
       "      <td>1,293</td>\n",
       "      <td>1,299</td>\n",
       "      <td>185,800</td>\n",
       "      <td>1,299</td>\n",
       "    </tr>\n",
       "    <tr>\n",
       "      <th>9</th>\n",
       "      <td>2016年12月28日</td>\n",
       "      <td>1,322</td>\n",
       "      <td>1,337</td>\n",
       "      <td>1,306</td>\n",
       "      <td>1,317</td>\n",
       "      <td>294,900</td>\n",
       "      <td>1,317</td>\n",
       "    </tr>\n",
       "    <tr>\n",
       "      <th>10</th>\n",
       "      <td>2016年12月27日</td>\n",
       "      <td>1,250</td>\n",
       "      <td>1,322</td>\n",
       "      <td>1,250</td>\n",
       "      <td>1,293</td>\n",
       "      <td>349,200</td>\n",
       "      <td>1,293</td>\n",
       "    </tr>\n",
       "    <tr>\n",
       "      <th>11</th>\n",
       "      <td>2016年12月26日</td>\n",
       "      <td>1,231</td>\n",
       "      <td>1,276</td>\n",
       "      <td>1,230</td>\n",
       "      <td>1,264</td>\n",
       "      <td>141,600</td>\n",
       "      <td>1,264</td>\n",
       "    </tr>\n",
       "    <tr>\n",
       "      <th>12</th>\n",
       "      <td>2016年12月22日</td>\n",
       "      <td>1,280</td>\n",
       "      <td>1,285</td>\n",
       "      <td>1,245</td>\n",
       "      <td>1,258</td>\n",
       "      <td>168,700</td>\n",
       "      <td>1,258</td>\n",
       "    </tr>\n",
       "    <tr>\n",
       "      <th>13</th>\n",
       "      <td>2016年12月21日</td>\n",
       "      <td>1,285</td>\n",
       "      <td>1,299</td>\n",
       "      <td>1,268</td>\n",
       "      <td>1,282</td>\n",
       "      <td>124,300</td>\n",
       "      <td>1,282</td>\n",
       "    </tr>\n",
       "    <tr>\n",
       "      <th>14</th>\n",
       "      <td>2016年12月20日</td>\n",
       "      <td>1,264</td>\n",
       "      <td>1,310</td>\n",
       "      <td>1,256</td>\n",
       "      <td>1,299</td>\n",
       "      <td>175,800</td>\n",
       "      <td>1,299</td>\n",
       "    </tr>\n",
       "    <tr>\n",
       "      <th>15</th>\n",
       "      <td>2016年12月19日</td>\n",
       "      <td>1,273</td>\n",
       "      <td>1,289</td>\n",
       "      <td>1,264</td>\n",
       "      <td>1,268</td>\n",
       "      <td>146,300</td>\n",
       "      <td>1,268</td>\n",
       "    </tr>\n",
       "    <tr>\n",
       "      <th>16</th>\n",
       "      <td>2016年12月16日</td>\n",
       "      <td>1,277</td>\n",
       "      <td>1,298</td>\n",
       "      <td>1,267</td>\n",
       "      <td>1,288</td>\n",
       "      <td>163,800</td>\n",
       "      <td>1,288</td>\n",
       "    </tr>\n",
       "    <tr>\n",
       "      <th>17</th>\n",
       "      <td>2016年12月15日</td>\n",
       "      <td>1,301</td>\n",
       "      <td>1,308</td>\n",
       "      <td>1,277</td>\n",
       "      <td>1,298</td>\n",
       "      <td>168,500</td>\n",
       "      <td>1,298</td>\n",
       "    </tr>\n",
       "    <tr>\n",
       "      <th>18</th>\n",
       "      <td>2016年12月14日</td>\n",
       "      <td>1,322</td>\n",
       "      <td>1,334</td>\n",
       "      <td>1,301</td>\n",
       "      <td>1,309</td>\n",
       "      <td>178,300</td>\n",
       "      <td>1,309</td>\n",
       "    </tr>\n",
       "  </tbody>\n",
       "</table>\n",
       "</div>"
      ],
      "text/plain": [
       "             安値     始値     日付     高値     終値        出来高  調整後終値\n",
       "0    2017年1月13日  1,631  1,736  1,595  1,721  2,798,600  1,721\n",
       "1    2017年1月12日  1,544  1,630  1,486  1,598  2,726,700  1,598\n",
       "2    2017年1月11日  1,507  1,558  1,457  1,493  1,185,900  1,493\n",
       "3    2017年1月10日  1,415  1,531  1,377  1,521  1,708,900  1,521\n",
       "4     2017年1月6日  1,398  1,411  1,365  1,395    546,200  1,395\n",
       "5     2017年1月5日  1,320  1,395  1,312  1,384    869,600  1,384\n",
       "6     2017年1月4日  1,320  1,337  1,309  1,313    215,800  1,313\n",
       "7   2016年12月30日  1,292  1,327  1,283  1,312    171,400  1,312\n",
       "8   2016年12月29日  1,315  1,326  1,293  1,299    185,800  1,299\n",
       "9   2016年12月28日  1,322  1,337  1,306  1,317    294,900  1,317\n",
       "10  2016年12月27日  1,250  1,322  1,250  1,293    349,200  1,293\n",
       "11  2016年12月26日  1,231  1,276  1,230  1,264    141,600  1,264\n",
       "12  2016年12月22日  1,280  1,285  1,245  1,258    168,700  1,258\n",
       "13  2016年12月21日  1,285  1,299  1,268  1,282    124,300  1,282\n",
       "14  2016年12月20日  1,264  1,310  1,256  1,299    175,800  1,299\n",
       "15  2016年12月19日  1,273  1,289  1,264  1,268    146,300  1,268\n",
       "16  2016年12月16日  1,277  1,298  1,267  1,288    163,800  1,288\n",
       "17  2016年12月15日  1,301  1,308  1,277  1,298    168,500  1,298\n",
       "18  2016年12月14日  1,322  1,334  1,301  1,309    178,300  1,309"
      ]
     },
     "execution_count": 252,
     "metadata": {},
     "output_type": "execute_result"
    }
   ],
   "source": [
    "data"
   ]
  },
  {
   "cell_type": "code",
   "execution_count": null,
   "metadata": {
    "collapsed": true
   },
   "outputs": [],
   "source": []
  }
 ],
 "metadata": {
  "kernelspec": {
   "display_name": "Python 3",
   "language": "python",
   "name": "python3"
  },
  "language_info": {
   "codemirror_mode": {
    "name": "ipython",
    "version": 3
   },
   "file_extension": ".py",
   "mimetype": "text/x-python",
   "name": "python",
   "nbconvert_exporter": "python",
   "pygments_lexer": "ipython3",
   "version": "3.4.5"
  }
 },
 "nbformat": 4,
 "nbformat_minor": 0
}
