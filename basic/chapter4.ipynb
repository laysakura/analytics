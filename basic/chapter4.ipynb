{
 "cells": [
  {
   "cell_type": "code",
   "execution_count": 1,
   "metadata": {
    "collapsed": false
   },
   "outputs": [
    {
     "name": "stdout",
     "output_type": "stream",
     "text": [
      "yamakawa さんは\n",
      "ピザ を食べると\n",
      "幸せになります\n"
     ]
    }
   ],
   "source": [
    "def uranai(name, recipe):\n",
    "    print(name, \"さんは\")\n",
    "    print(recipe[ord(name[0]) % len(recipe)], \"を食べると\")\n",
    "    print(\"幸せになります\")\n",
    "\n",
    "food = [\"オムライス\", \"ピザ\", \"カレー\"]\n",
    "name_test = \"yamakawa\"\n",
    "uranai(name_test, food)"
   ]
  },
  {
   "cell_type": "code",
   "execution_count": 9,
   "metadata": {
    "collapsed": false
   },
   "outputs": [],
   "source": [
    "def uranai2(name, hero = \"python master\"):\n",
    "    recipes = [\"オムライス\", \"ピザ\", \"カレー\"]\n",
    "    result = name + \"は\"\n",
    "    result += recipes[ord(name[1]) % len(recipes)] + \"を食べると\"\n",
    "    result += hero + \"になります\"\n",
    "    return result\n",
    "out = uranai2(\"yoichi\")"
   ]
  },
  {
   "cell_type": "code",
   "execution_count": 10,
   "metadata": {
    "collapsed": false
   },
   "outputs": [
    {
     "data": {
      "text/plain": [
       "'yoichiはオムライスを食べるとpython masterになります'"
      ]
     },
     "execution_count": 10,
     "metadata": {},
     "output_type": "execute_result"
    }
   ],
   "source": [
    "out"
   ]
  },
  {
   "cell_type": "code",
   "execution_count": 11,
   "metadata": {
    "collapsed": true
   },
   "outputs": [],
   "source": [
    "from turtle import *"
   ]
  },
  {
   "cell_type": "code",
   "execution_count": null,
   "metadata": {
    "collapsed": false
   },
   "outputs": [],
   "source": [
    "def branch(length):\n",
    "    \"\"\"\n",
    "    長さを引数として受け取って枝を描く\n",
    "    \"\"\"\n",
    "    if length < 10:\n",
    "        return \n",
    "    forward(length)\n",
    "    left(30)\n",
    "    branch(length/2)\n",
    "    right(60)\n",
    "    branch(length/2)\n",
    "    left(30)\n",
    "    forward(-length)\n",
    "    \n",
    "branch(200)\n",
    "\n",
    "input()"
   ]
  },
  {
   "cell_type": "code",
   "execution_count": null,
   "metadata": {
    "collapsed": true
   },
   "outputs": [],
   "source": []
  },
  {
   "cell_type": "code",
   "execution_count": null,
   "metadata": {
    "collapsed": true
   },
   "outputs": [],
   "source": []
  }
 ],
 "metadata": {
  "kernelspec": {
   "display_name": "Python 3",
   "language": "python",
   "name": "python3"
  },
  "language_info": {
   "codemirror_mode": {
    "name": "ipython",
    "version": 3
   },
   "file_extension": ".py",
   "mimetype": "text/x-python",
   "name": "python",
   "nbconvert_exporter": "python",
   "pygments_lexer": "ipython3",
   "version": "3.4.5"
  }
 },
 "nbformat": 4,
 "nbformat_minor": 0
}
